{
  "nbformat": 4,
  "nbformat_minor": 0,
  "metadata": {
    "colab": {
      "name": "GANet.ipynb",
      "provenance": [],
      "collapsed_sections": []
    },
    "kernelspec": {
      "name": "python3",
      "display_name": "Python 3"
    },
    "language_info": {
      "name": "python"
    }
  },
  "cells": [
    {
      "cell_type": "code",
      "execution_count": 1,
      "metadata": {
        "id": "uVYkL_H066YJ"
      },
      "outputs": [],
      "source": [
        "import numpy as np\n",
        "import networkx as nx\n",
        "import matplotlib.pyplot as plt"
      ]
    },
    {
      "cell_type": "code",
      "source": [
        "class GANet :\n",
        "    \n",
        "    \"\"\"This Class implements the GA-Net Algorithm For Community Detection\"\"\"\n",
        "    \n",
        "    best_population = None\n",
        "    \n",
        "    def __init__(self,G,n_generation=5,population_size = 6,n_best_ind= 3,mean_order=2):\n",
        "        self.G = G\n",
        "        self.population_size = population_size\n",
        "        self.n_best_ind = n_best_ind\n",
        "        self.mean_order = mean_order\n",
        "        self.N = G.shape[0]\n",
        "        self.n_generation = n_generation\n",
        "        \n",
        "    def decode(self,chrom):\n",
        "        \"\"\"\n",
        "        Decodes The Individual\n",
        "        Assign Each Node To A Cluster\n",
        "        Returns An Adjancy Matrice For Each sub-Graph (Cluster) And The Cluster Assignment\n",
        "        \"\"\"\n",
        "        cc=0\n",
        "        clusterAssignment=[None]*len(chrom)\n",
        "        previous=[None]*len(chrom)\n",
        "        for i in range(len(chrom)):\n",
        "            ctr=0\n",
        "            if clusterAssignment[i]==None:\n",
        "                clusterAssignment[i]=cc\n",
        "                neighbor=chrom[i]\n",
        "                previous[ctr]=i\n",
        "                ctr+=1\n",
        "                while clusterAssignment[neighbor]==None:\n",
        "                    previous[ctr]=neighbor\n",
        "                    clusterAssignment[neighbor]=cc\n",
        "                    neighbor=chrom[neighbor]\n",
        "                    ctr+=1\n",
        "                if clusterAssignment[neighbor] != cc:\n",
        "                    ctr-=1\n",
        "                    while ctr >= 0:\n",
        "                        clusterAssignment[previous[ctr]]=clusterAssignment[neighbor]\n",
        "                        ctr-=1\n",
        "                else:\n",
        "                    cc+=1\n",
        "        \n",
        "        clusterAssignment = np.array(clusterAssignment)\n",
        "        clusters = np.unique(clusterAssignment)\n",
        "        sub_adjancies = []\n",
        "        \n",
        "        for c in clusters :\n",
        "            indices = np.argwhere(clusterAssignment == c)\n",
        "            size = len(indices)\n",
        "            indices = indices.reshape(size)\n",
        "            sub_adjancies.append(np.take(np.take(self.G,indices,axis=0),indices,axis=1))\n",
        "        \n",
        "        return (sub_adjancies,clusterAssignment)\n",
        "            \n",
        "        \n",
        "    def fitness(self,individual) :\n",
        "        \"\"\"\n",
        "        Returns The Community score Of The \n",
        "        Components On Which The Graph Is Partitioned\n",
        "        \n",
        "        \"\"\"\n",
        "        partition,_ = self.decode(individual)\n",
        "        Q = []\n",
        "        for part in partition :\n",
        "            vs = np.sum(part)\n",
        "            shape = np.shape(part)\n",
        "            aiJ = np.sum(part,axis= 1)/ shape[1]\n",
        "            M_s = np.sum(aiJ**self.mean_order) / shape[0]\n",
        "            Q.append(M_s * vs)\n",
        "            \n",
        "        return np.sum(np.array(Q))\n",
        "    \n",
        "    def fitness_pop(self,pop) :\n",
        "        \"\"\"\n",
        "        Returns The Fitness Of The Population\n",
        "        \"\"\"\n",
        "        score = []\n",
        "        for p in pop :\n",
        "            score.append(self.fitness(p))\n",
        "            \n",
        "        return np.array(score)\n",
        "    \n",
        "    def bes_pop(self,pop):\n",
        "        \"\"\"\n",
        "        Returns The Individual With Best Fitness score\n",
        "        \"\"\"\n",
        "        fitness = self.fitness_pop(pop)\n",
        "        best_fit = np.where(fitness == np.max(fitness))\n",
        "        return pop[best_fit[0][0]]\n",
        "    \n",
        "    def initialize(self) :\n",
        "        \"\"\"\n",
        "        Create The First Generation\n",
        "        \"\"\"\n",
        "        individuals = []\n",
        "        G = self.G\n",
        "        np.random.seed(123)\n",
        "        \n",
        "        for i in range(self.population_size) :\n",
        "            individual =np.random.randint(self.N,size=self.N)\n",
        "            for j in range(self.N):\n",
        "                if(G[j,individual[j]] == 0):\n",
        "                    neighbors = np.array(np.where(G[j,:] == 1))\n",
        "                    n_neighbor = len(neighbors[0])\n",
        "                    neighbors = neighbors.reshape(n_neighbor)\n",
        "                    i_n = np.random.randint(n_neighbor)\n",
        "                    individual[j] = neighbors[i_n]\n",
        "                    \n",
        "            individuals.append(individual)\n",
        "            \n",
        "        return np.array(individuals)\n",
        "        \n",
        "    def select_mating_tool(self,fitness_score,population):\n",
        "        \"\"\"\n",
        "        Returns The Best Parents According To The Fitness Values\n",
        "        \"\"\"\n",
        "        num_parents = self.n_best_ind\n",
        "        parents = np.zeros((num_parents, population.shape[1]))\n",
        "        \n",
        "        for i in range(num_parents):\n",
        "            max_fitness_idx = np.where(fitness_score == np.max(fitness_score))\n",
        "            max_fitness_idx = max_fitness_idx[0][0]\n",
        "            parents[i, :] = population[max_fitness_idx, :]\n",
        "            fitness_score[max_fitness_idx] = -99999999999\n",
        "        \n",
        "        return parents.astype(int)\n",
        "    \n",
        "    def uniform_crossover(self,parents) :\n",
        "        \"\"\"\n",
        "        Returns Next Generation Children\n",
        "        \"\"\"\n",
        "        offspring_size = parents.shape\n",
        "        offspring = np.empty(offspring_size)\n",
        "        crossover_point = np.uint8(offspring_size[1]/2)\n",
        "\n",
        "        for k in range(offspring_size[0]):\n",
        "         # Index of the first parent to mate.\n",
        "            parent1_idx = k%parents.shape[0]\n",
        "         # Index of the second parent to mate.\n",
        "            parent2_idx = (k+1)%parents.shape[0]\n",
        "         # The new offspring will have its first half of its genes taken from the first parent.\n",
        "            offspring[k, 0:crossover_point] = parents[parent1_idx, 0:crossover_point]\n",
        "         # The new offspring will have its second half of its genes taken from the second parent.\n",
        "            offspring[k, crossover_point:] = parents[parent2_idx, crossover_point:]\n",
        "        return offspring.astype(int)\n",
        "    \n",
        "    def mutate(self,pop):\n",
        "      \"\"\"Mutate Each Chromosom\"\"\"\n",
        "\n",
        "      G = self.G\n",
        "\n",
        "      for idx in range(pop.shape[0]):\n",
        "\n",
        "        neighbors = np.array(np.where(G[4,:] == 1))\n",
        "        n_neighbor = len(neighbors[0])\n",
        "        neighbors = neighbors.reshape(n_neighbor)\n",
        "        i_n = np.random.randint(n_neighbor)\n",
        "        pop[idx, 4] = neighbors[i_n]\n",
        "\n",
        "      return pop\n",
        "\n",
        "    def run(self) :\n",
        "        \"\"\"\n",
        "        Launch The Algorithm\n",
        "        \"\"\"\n",
        "        population = self.initialize()\n",
        "        for generation in range(self.n_generation):\n",
        "            fitness = self.fitness_pop(population)\n",
        "            parents = self.select_mating_tool(fitness,population)\n",
        "            cross_over = self.uniform_crossover(parents)\n",
        "            mutated = self.mutate(cross_over)\n",
        "            population[0:parents.shape[0], :] = parents\n",
        "            population[parents.shape[0]:, :] = mutated\n",
        "            \n",
        "        self.best_population = self.bes_pop(population)\n",
        "    \n",
        "    def get_communitites(self):\n",
        "        \"\"\"\n",
        "        Returns The Communtites found\n",
        "        \"\"\"\n",
        "        _,communitites = self.decode(self.best_population)\n",
        "        return communitites"
      ],
      "metadata": {
        "id": "xw-yIddO7n3o"
      },
      "execution_count": 2,
      "outputs": []
    },
    {
      "cell_type": "code",
      "source": [
        "def draw_communities(G,A, node_size=30, alpha=1, k=None, randomized=False):\n",
        "    ganet = GANet(G=A)\n",
        "    ganet.run()\n",
        "    partition = ganet.get_communitites()\n",
        "    print(\"Clusters :\",partition)\n",
        "    print(\"Best Chromosom :\",ganet.best_population)\n",
        "    print(\"Fitness score :\",ganet.fitness(ganet.best_population))\n",
        "\n",
        "    community_map = {}\n",
        "    for node, community in enumerate(partition):\n",
        "        community_map[node] = community\n",
        "\n",
        "    cmap = plt.get_cmap(\"jet\")\n",
        "    pos = nx.spring_layout(G)\n",
        "    indexed = [community_map.get(node) for node in G]\n",
        "    plt.axis(\"off\")\n",
        "\n",
        "    nx.draw_networkx_nodes(G, pos=pos, cmap=cmap, node_color=indexed, node_size=node_size, alpha=alpha)\n",
        "    nx.draw_networkx_edges(G, pos=pos, alpha=0.2)"
      ],
      "metadata": {
        "id": "2-4-KZpt7un5"
      },
      "execution_count": 3,
      "outputs": []
    },
    {
      "cell_type": "code",
      "source": [
        "# Example Provided In The Article\n",
        "A = np.array([[0,1,1,1,0,0,0,0,0,0,0],\n",
        "                  [1,0,1,1,0,0,0,0,0,0,0],\n",
        "                  [1,1,0,1,0,0,0,0,0,0,0],\n",
        "                  [1,1,1,0,1,0,0,0,0,0,0],\n",
        "                  [0,0,0,1,0,1,0,0,0,0,0],\n",
        "                  [0,0,0,0,1,0,1,0,0,0,0],\n",
        "                  [0,0,0,0,0,1,0,1,0,0,0],\n",
        "                  [0,0,0,0,0,0,1,0,1,1,1],\n",
        "                  [0,0,0,0,0,0,0,1,0,1,1],\n",
        "                  [0,0,0,0,0,0,0,1,1,0,1],\n",
        "                  [0,0,0,0,0,0,0,1,1,1,0]]) \n",
        "\n",
        "ganet = GANet(G=A)\n",
        "ganet.run()\n",
        "partition = ganet.get_communitites()\n",
        "print(\"Clusters :\",partition)\n",
        "print(\"Best Chromosom :\",ganet.best_population)\n",
        "print(\"Fitness score :\",ganet.fitness(ganet.best_population))"
      ],
      "metadata": {
        "colab": {
          "base_uri": "https://localhost:8080/"
        },
        "id": "jNPTBvpB7xV5",
        "outputId": "bed7abc1-a2ab-45a4-e510-3cb6283a1fc8"
      },
      "execution_count": 4,
      "outputs": [
        {
          "output_type": "stream",
          "name": "stdout",
          "text": [
            "Clusters : [0 0 0 0 1 1 1 2 2 2 2]\n",
            "Best Chromosom : [3 3 0 0 5 4 5 8 7 8 7]\n",
            "Fitness score : 14.38888888888889\n"
          ]
        }
      ]
    },
    {
      "cell_type": "code",
      "source": [
        "G = nx.karate_club_graph()\n",
        "A = nx.to_numpy_array(G).astype(int)\n",
        "draw_communities(G,A)"
      ],
      "metadata": {
        "colab": {
          "base_uri": "https://localhost:8080/",
          "height": 318
        },
        "id": "X5TU101J94vO",
        "outputId": "c40ad121-187a-4110-dfda-635d241805dd"
      },
      "execution_count": 5,
      "outputs": [
        {
          "output_type": "stream",
          "name": "stdout",
          "text": [
            "Clusters : [0 0 0 0 1 1 1 0 2 2 1 0 0 0 2 2 1 0 2 0 2 0 2 3 4 4 2 3 2 2 2 4 2 2]\n",
            "Best Chromosom : [19 21  1  1  6 10 16  1 32 33  5  0  3  3 33 32  5  0 33  0 33  0 33 27\n",
            " 31 31 29 23 33 33 33 25 22 14]\n",
            "Fitness score : 21.08383058837262\n"
          ]
        },
        {
          "output_type": "display_data",
          "data": {
            "image/png": "[encoded data removed]",
            "text/plain": [
              "<Figure size 432x288 with 1 Axes>"
            ]
          },
          "metadata": {}
        }
      ]
    },
    {
      "cell_type": "code",
      "source": [
        "G = nx.ring_of_cliques(8, 4)\n",
        "A = nx.to_numpy_array(G).astype(int)\n",
        "draw_communities(G,A)"
      ],
      "metadata": {
        "colab": {
          "base_uri": "https://localhost:8080/",
          "height": 318
        },
        "id": "PmyePGKtB5CG",
        "outputId": "01aa3412-9d2f-4d3e-d2bb-8d46b762d71a"
      },
      "execution_count": 6,
      "outputs": [
        {
          "output_type": "stream",
          "name": "stdout",
          "text": [
            "Clusters : [0 1 0 0 1 1 1 1 2 2 2 2 3 3 3 3 4 4 4 4 5 5 5 5 6 6 6 6 0 0 7 7]\n",
            "Best Chromosom : [29  4  0  2  7  4  4  6  9 10  9  9 13 15 15 13 18 19 19 18 21 23 23 22\n",
            " 26 26 24 24 29 28 31 30]\n",
            "Fitness score : 40.938\n"
          ]
        },
        {
          "output_type": "display_data",
          "data": {
            "image/png": "[encoded data removed]",
            "text/plain": [
              "<Figure size 432x288 with 1 Axes>"
            ]
          },
          "metadata": {}
        }
      ]
    }
  ]
}